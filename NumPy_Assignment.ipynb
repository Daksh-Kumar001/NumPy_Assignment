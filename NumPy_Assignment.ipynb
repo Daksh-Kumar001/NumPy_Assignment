{
 "cells": [
  {
   "cell_type": "markdown",
   "id": "5308c044-352d-49b6-8201-a33a5de22e40",
   "metadata": {},
   "source": [
    "# Theoretical Question"
   ]
  },
  {
   "cell_type": "raw",
   "id": "a396600e-314b-4edc-ac74-a2fa529095a0",
   "metadata": {},
   "source": [
    "QUESTION-1. Explain the purpose and advantages of NumPy in scientific computing and data analysis. How does it \n",
    "enhance Python's capabilities for numerical operations?"
   ]
  },
  {
   "cell_type": "raw",
   "id": "ccfb74b4-0f68-4b74-9a9c-1633a303f0bf",
   "metadata": {},
   "source": [
    "#Answer-1 NumPy (Numerical Python) is a core library for numerical computations in Python. It provides support for multi-dimensional arrays and matrices, along with a collection of mathematical functions to perform operations on these arrays. Key advantages include:\n",
    "\n",
    "Efficiency: NumPy arrays are more memory-efficient than standard Python lists, as they store elements of the same data type in contiguous memory blocks.\n",
    "Speed: NumPy performs operations more quickly by using optimized C code under the hood, reducing execution time for large datasets.\n",
    "Convenience: It offers a wide range of mathematical functions for linear algebra, Fourier analysis, random number generation, etc.\n",
    "Interoperability: It seamlessly integrates with other scientific libraries like SciPy and Pandas, making it foundational for scientific computing in Python.\n",
    "By enhancing Python’s capabilities for handling numerical data, NumPy allows for efficient, high-performance computation, making it indispensable for data analysis and scientific applications."
   ]
  },
  {
   "cell_type": "raw",
   "id": "432061e6-aee6-4eb0-8c16-aba2dc5becc2",
   "metadata": {},
   "source": [
    "QUESTION-2. Compare and contrast np.mean() and np.average() functions in NumPy. When would you use one over the \n",
    "other?"
   ]
  },
  {
   "cell_type": "raw",
   "id": "235849ae-b5d1-45b0-8e05-c65b625aeb5d",
   "metadata": {},
   "source": [
    "#Answer-2 \n",
    "np.mean(): Calculates the arithmetic mean (average) of array elements along a specified axis. It does not take weights into account.\n",
    "np.average(): Similar to np.mean(), but it allows for weighted averaging if a weights parameter is provided.\n",
    "When to use each:\n",
    "\n",
    "Use np.mean() for a simple average.\n",
    "Use np.average() when you need a weighted average, as it offers greater control in scenarios where certain data points should have more influence on the outcome."
   ]
  },
  {
   "cell_type": "raw",
   "id": "4f52231d-331c-44a4-a483-86ca417a2c5a",
   "metadata": {},
   "source": [
    "QUESTION- 3. Describe the methods for reversing a NumPy array along different axes. Provide examples for 1D and 2D \n",
    "arrays."
   ]
  },
  {
   "cell_type": "raw",
   "id": "7970446b-a30a-4d36-a5cb-3f585085c661",
   "metadata": {},
   "source": [
    "#Answer-3 \n",
    "1D Array: To reverse a 1D array, use slicing (array[::-1]).\n",
    "\n",
    "python\n",
    "Copy code\n",
    "import numpy as np\n",
    "arr = np.array([1, 2, 3, 4])\n",
    "reversed_arr = arr[::-1]\n",
    "2D Array: To reverse along different axes, use np.flip():\n",
    "\n",
    "Reverse rows (axis=0): np.flip(array, axis=0)\n",
    "Reverse columns (axis=1): np.flip(array, axis=1)\n",
    "python\n",
    "Copy code\n",
    "arr_2d = np.array([[1, 2, 3], [4, 5, 6]])\n",
    "reversed_rows = np.flip(arr_2d, axis=0)\n",
    "reversed_columns = np.flip(arr_2d, axis=1)"
   ]
  },
  {
   "cell_type": "raw",
   "id": "d152d853-fc43-4345-8275-b5ad90f411b9",
   "metadata": {},
   "source": [
    "QUESTION-4. How can you determine the data type of elements in a NumPy array? Discuss the importance of data types \n",
    "in memory management and performance."
   ]
  },
  {
   "cell_type": "raw",
   "id": "a1c7b673-0b82-4e9b-ae77-dbb523f429f1",
   "metadata": {},
   "source": [
    "#Answer-4 \n",
    "Use array.dtype to determine the data type of elements in a NumPy array. For example:\n",
    "\n",
    "python\n",
    "Copy code\n",
    "arr = np.array([1, 2, 3])\n",
    "print(arr.dtype)  # Output: dtype('int64')\n",
    "Importance of Data Types:\n",
    "\n",
    "Proper data type selection conserves memory and enhances performance.\n",
    "NumPy’s homogeneous data types (all elements have the same type) improve computational efficiency, as operations on array elements can be parallelized without type-checking overhead.\n"
   ]
  },
  {
   "cell_type": "raw",
   "id": "5bdd5684-68e4-4df6-8be1-0b0425ed8e89",
   "metadata": {},
   "source": [
    "QUESTION- 5. Define ndarrays in NumPy and explain their key features. How do they differ from standard Python lists?"
   ]
  },
  {
   "cell_type": "raw",
   "id": "6849bd99-3a1d-4de7-94cf-6bbfb3218beb",
   "metadata": {},
   "source": [
    "#Answer-5\n",
    "Definition: The ndarray (N-dimensional array) is the core data structure of NumPy, representing an array of elements indexed by a tuple of non-negative integers.\n",
    "Key Features:\n",
    "Fixed size and homogeneous type.\n",
    "Supports multidimensional indexing.\n",
    "Optimized for high-performance operations (e.g., element-wise calculations).\n",
    "Differences from Python Lists:\n",
    "\n",
    "ndarrays are memory-efficient and faster for numerical computations.\n",
    "Unlike lists, they allow for element-wise operations, broadcasting, and vectorization."
   ]
  },
  {
   "cell_type": "raw",
   "id": "824007a9-4a9e-4236-98b3-154972ce93b1",
   "metadata": {},
   "source": [
    "QUESTION- 6. Analyze the performance benefits of NumPy arrays over Python lists for large-scale numerical operations."
   ]
  },
  {
   "cell_type": "raw",
   "id": "746db3a4-8a4a-497e-abad-a42a5c665c34",
   "metadata": {},
   "source": [
    "#Answer-6 \n",
    "NumPy arrays are optimized for numerical operations and provide significant performance benefits over lists due to:\n",
    "\n",
    "Memory Efficiency: Arrays store data in contiguous memory blocks, reducing memory usage and access time.\n",
    "Speed: Operations on NumPy arrays are faster because they leverage vectorized operations and C-based optimizations, reducing the need for Python loops.\n"
   ]
  },
  {
   "cell_type": "raw",
   "id": "1f8d805c-f8ff-4f7f-aed4-97a23441e323",
   "metadata": {},
   "source": [
    "QUESTION- 7. Compare vstack() and hstack() functions in NumPy. Provide examples demonstrating their usage and \n",
    "output."
   ]
  },
  {
   "cell_type": "raw",
   "id": "24b91df9-2479-4234-86d6-c170856e03b4",
   "metadata": {},
   "source": [
    "#Answer-7 \n",
    "vstack(): Stacks arrays vertically (row-wise).\n",
    "hstack(): Stacks arrays horizontally (column-wise).\n",
    "Example:\n",
    "\n",
    "python\n",
    "Copy code\n",
    "arr1 = np.array([1, 2, 3])\n",
    "arr2 = np.array([4, 5, 6])\n",
    "\n",
    "vstacked = np.vstack((arr1, arr2))  # Output: [[1, 2, 3], [4, 5, 6]]\n",
    "hstacked = np.hstack((arr1, arr2))  # Output: [1, 2, 3, 4, 5, 6]"
   ]
  },
  {
   "cell_type": "raw",
   "id": "8b952c4c-1286-4f14-adeb-152bceef58be",
   "metadata": {},
   "source": [
    "QUESTION- 8. Explain the differences between fliplr() and flipud() methods in NumPy, including their effects on various \n",
    "array dimensions."
   ]
  },
  {
   "cell_type": "raw",
   "id": "ad55b507-fc1b-424f-8a0a-9d5dc88ed496",
   "metadata": {},
   "source": [
    "#Answer-8 \n",
    "fliplr(): Flips the array from left to right (horizontally), affecting the columns.\n",
    "flipud(): Flips the array upside down (vertically), affecting the rows.\n",
    "Example:\n",
    "\n",
    "python\n",
    "Copy code\n",
    "arr = np.array([[1, 2], [3, 4]])\n",
    "\n",
    "flipped_lr = np.fliplr(arr)  # Output: [[2, 1], [4, 3]]\n",
    "flipped_ud = np.flipud(arr)  # Output: [[3, 4], [1, 2]]"
   ]
  },
  {
   "cell_type": "raw",
   "id": "8b3e9f5a-4d06-4060-8799-a2b4289cd450",
   "metadata": {},
   "source": [
    "QUESTION-9. Discuss the functionality of the array_split() method in NumPy. How does it handle uneven splits?"
   ]
  },
  {
   "cell_type": "raw",
   "id": "863e8244-db5f-492c-beef-a1e7ebeaee7a",
   "metadata": {},
   "source": [
    "#Answer-9 \n",
    "array_split() divides an array into specified subarrays. It handles uneven splits by distributing remaining elements across subarrays.\n",
    "Example:\n",
    "python\n",
    "Copy code\n",
    "arr = np.array([1, 2, 3, 4, 5])\n",
    "split_arr = np.array_split(arr, 3)  # Output: [array([1, 2]), array([3, 4]), array([5])]\n"
   ]
  },
  {
   "cell_type": "raw",
   "id": "f394b5e7-2afd-4ff5-8ce5-f5f0849aec74",
   "metadata": {},
   "source": [
    "QUESTION- 10. Explain the concepts of vectorization and broadcasting in NumPy. How do they contribute to efficient array \n",
    "operations?"
   ]
  },
  {
   "cell_type": "raw",
   "id": "3dc173cc-6ce7-4736-9b3d-e7d096db9043",
   "metadata": {},
   "source": [
    "#Answer-10\n",
    "Vectorization: Refers to performing operations on entire arrays without explicit loops, allowing faster computations.\n",
    "Broadcasting: Enables operations on arrays of different shapes by stretching smaller arrays along larger ones without copying data.\n",
    "Benefits:\n",
    "\n",
    "Vectorization removes the need for Python loops, making computations faster and more concise.\n",
    "Broadcasting allows operations on arrays of unequal dimensions, improving flexibility and efficiency."
   ]
  },
  {
   "cell_type": "code",
   "execution_count": null,
   "id": "2809b53b-0ca6-46b0-bba5-7b1f80d00187",
   "metadata": {},
   "outputs": [],
   "source": []
  },
  {
   "cell_type": "markdown",
   "id": "846b907d-8303-406b-8aaa-7a98c91a1005",
   "metadata": {},
   "source": [
    "# Practical Question"
   ]
  },
  {
   "cell_type": "raw",
   "id": "ce45707e-2f83-49bc-bc64-9f773601639c",
   "metadata": {},
   "source": [
    "QUESTION-1 Create a 3x3 NumPy array with random integers between 1 and 100. Then, interchange its rows and columns."
   ]
  },
  {
   "cell_type": "code",
   "execution_count": 6,
   "id": "8b47883f-a00e-4b7f-a193-2ac215ce4253",
   "metadata": {},
   "outputs": [
    {
     "data": {
      "text/plain": [
       "(array([[ 62,  55,  98],\n",
       "        [ 70,  41, 100],\n",
       "        [ 80,  88,  55]]),\n",
       " array([[ 62,  70,  80],\n",
       "        [ 55,  41,  88],\n",
       "        [ 98, 100,  55]]))"
      ]
     },
     "execution_count": 6,
     "metadata": {},
     "output_type": "execute_result"
    }
   ],
   "source": [
    "#Answer-1 \n",
    "import numpy as np\n",
    "\n",
    "# Create a 3x3 array with random integers between 1 and 100\n",
    "arr = np.random.randint(1, 101, (3, 3))\n",
    "\n",
    "# Interchange rows and columns (transpose the array)\n",
    "transposed_arr = arr.T\n",
    "\n",
    "arr, transposed_arr"
   ]
  },
  {
   "cell_type": "raw",
   "id": "424e0756-72a2-426f-b25c-0d13e9d23e80",
   "metadata": {},
   "source": [
    "QUESTION-2 Generate a 1D NumPy array with 10 elements. Reshape it into a 2x5 array, then into a 5x2 array."
   ]
  },
  {
   "cell_type": "code",
   "execution_count": 3,
   "id": "907bf8fb-99d4-47a9-bdd6-e32faacafeab",
   "metadata": {},
   "outputs": [
    {
     "data": {
      "text/plain": [
       "(array([0, 1, 2, 3, 4, 5, 6, 7, 8, 9]),\n",
       " array([[0, 1, 2, 3, 4],\n",
       "        [5, 6, 7, 8, 9]]),\n",
       " array([[0, 1],\n",
       "        [2, 3],\n",
       "        [4, 5],\n",
       "        [6, 7],\n",
       "        [8, 9]]))"
      ]
     },
     "execution_count": 3,
     "metadata": {},
     "output_type": "execute_result"
    }
   ],
   "source": [
    "#Answer-2\n",
    "# Generate a 1D array with 10 elements\n",
    "arr = np.arange(10)\n",
    "\n",
    "# Reshape into a 2x5 array\n",
    "arr_2x5 = arr.reshape(2, 5)\n",
    "\n",
    "# Reshape into a 5x2 array\n",
    "arr_5x2 = arr.reshape(5, 2)\n",
    "\n",
    "arr, arr_2x5, arr_5x2"
   ]
  },
  {
   "cell_type": "raw",
   "id": "06086b32-d061-4f98-9130-5aae4581a2e9",
   "metadata": {},
   "source": [
    "QUESTION-3 Create a 4x4 NumPy array with random float values. Add a border of zeros around it, resulting in a 6x6 array."
   ]
  },
  {
   "cell_type": "code",
   "execution_count": 7,
   "id": "df3a0b05-40a3-46cc-add4-f7f66b0a8103",
   "metadata": {},
   "outputs": [
    {
     "data": {
      "text/plain": [
       "(array([[0.63707824, 0.43722555, 0.92894691, 0.00400411],\n",
       "        [0.92955755, 0.0231995 , 0.11467959, 0.24099854],\n",
       "        [0.01770114, 0.3669234 , 0.47846315, 0.46332923],\n",
       "        [0.82424412, 0.26293874, 0.93813986, 0.77007312]]),\n",
       " array([[0.        , 0.        , 0.        , 0.        , 0.        ,\n",
       "         0.        ],\n",
       "        [0.        , 0.63707824, 0.43722555, 0.92894691, 0.00400411,\n",
       "         0.        ],\n",
       "        [0.        , 0.92955755, 0.0231995 , 0.11467959, 0.24099854,\n",
       "         0.        ],\n",
       "        [0.        , 0.01770114, 0.3669234 , 0.47846315, 0.46332923,\n",
       "         0.        ],\n",
       "        [0.        , 0.82424412, 0.26293874, 0.93813986, 0.77007312,\n",
       "         0.        ],\n",
       "        [0.        , 0.        , 0.        , 0.        , 0.        ,\n",
       "         0.        ]]))"
      ]
     },
     "execution_count": 7,
     "metadata": {},
     "output_type": "execute_result"
    }
   ],
   "source": [
    "#Answer-3\n",
    "# Create a 4x4 array with random float values\n",
    "arr = np.random.rand(4, 4)\n",
    "\n",
    "# Add a border of zeros, resulting in a 6x6 array\n",
    "bordered_arr = np.pad(arr, pad_width=1, mode='constant', constant_values=0)\n",
    "\n",
    "arr, bordered_arr"
   ]
  },
  {
   "cell_type": "code",
   "execution_count": null,
   "id": "7afc1f68-bd6c-4414-8af2-961f110af05b",
   "metadata": {},
   "outputs": [],
   "source": [
    "QUESTION-4 Using NumPy, create an array of integers from 10 to 60 with a step of 5."
   ]
  },
  {
   "cell_type": "code",
   "execution_count": 5,
   "id": "90dd4967-c9d4-4e70-83e1-49fe1465a303",
   "metadata": {},
   "outputs": [
    {
     "data": {
      "text/plain": [
       "array([10, 15, 20, 25, 30, 35, 40, 45, 50, 55, 60])"
      ]
     },
     "execution_count": 5,
     "metadata": {},
     "output_type": "execute_result"
    }
   ],
   "source": [
    "#Answer-4\n",
    "arr = np.arange(10, 65, 5)\n",
    "arr"
   ]
  },
  {
   "cell_type": "code",
   "execution_count": null,
   "id": "22a6a43c-4918-4988-87bf-ef4c7fabc4b8",
   "metadata": {},
   "outputs": [],
   "source": [
    "QUESTION-5 Create a NumPy array of strings ['python', 'numpy', 'pandas']. Apply different case transformations \n",
    "(uppercase, lowercase, title case, etc.) to each element."
   ]
  },
  {
   "cell_type": "code",
   "execution_count": 6,
   "id": "96a423de-a88b-4a1a-a469-71199fd05c0b",
   "metadata": {},
   "outputs": [
    {
     "data": {
      "text/plain": [
       "(array(['PYTHON', 'NUMPY', 'PANDAS'], dtype='<U6'),\n",
       " array(['python', 'numpy', 'pandas'], dtype='<U6'),\n",
       " array(['Python', 'Numpy', 'Pandas'], dtype='<U6'))"
      ]
     },
     "execution_count": 6,
     "metadata": {},
     "output_type": "execute_result"
    }
   ],
   "source": [
    "# #Answer-5\n",
    "# Create array of strings\n",
    "arr = np.array(['python', 'numpy', 'pandas'])\n",
    "\n",
    "# Apply transformations\n",
    "upper_case = np.char.upper(arr)\n",
    "lower_case = np.char.lower(arr)\n",
    "title_case = np.char.title(arr)\n",
    "\n",
    "upper_case, lower_case, title_case"
   ]
  },
  {
   "cell_type": "raw",
   "id": "6730acab-11b9-42e9-b460-09f8be4d3e17",
   "metadata": {},
   "source": [
    "QUESTION-6 Generate a NumPy array of words. Insert a space between each character of every word in the array."
   ]
  },
  {
   "cell_type": "code",
   "execution_count": 7,
   "id": "f5bc232f-a49c-4178-be2f-c2bc7d8b0961",
   "metadata": {},
   "outputs": [
    {
     "data": {
      "text/plain": [
       "array(['h e l l o', 'w o r l d', 'n u m p y'], dtype='<U9')"
      ]
     },
     "execution_count": 7,
     "metadata": {},
     "output_type": "execute_result"
    }
   ],
   "source": [
    "#Answer-6\n",
    "# Create an array of words\n",
    "arr = np.array(['hello', 'world', 'numpy'])\n",
    "\n",
    "# Insert a space between each character\n",
    "spaced_arr = np.char.join(' ', arr)\n",
    "\n",
    "spaced_arr"
   ]
  },
  {
   "cell_type": "raw",
   "id": "fd6072f0-bef3-4ecb-89b2-74ed445723a4",
   "metadata": {},
   "source": [
    "QUESTION-7 Create two 2D NumPy arrays and perform element-wise addition, subtraction, multiplication, and division."
   ]
  },
  {
   "cell_type": "code",
   "execution_count": 8,
   "id": "7e263cb1-48ed-42d9-b786-212af66c0f1b",
   "metadata": {},
   "outputs": [
    {
     "data": {
      "text/plain": [
       "(array([[ 6,  8],\n",
       "        [10, 12]]),\n",
       " array([[-4, -4],\n",
       "        [-4, -4]]),\n",
       " array([[ 5, 12],\n",
       "        [21, 32]]),\n",
       " array([[0.2       , 0.33333333],\n",
       "        [0.42857143, 0.5       ]]))"
      ]
     },
     "execution_count": 8,
     "metadata": {},
     "output_type": "execute_result"
    }
   ],
   "source": [
    "#Answer-7\n",
    "# Create two 2D arrays\n",
    "arr1 = np.array([[1, 2], [3, 4]])\n",
    "arr2 = np.array([[5, 6], [7, 8]])\n",
    "\n",
    "# Perform element-wise operations\n",
    "addition = arr1 + arr2\n",
    "subtraction = arr1 - arr2\n",
    "multiplication = arr1 * arr2\n",
    "division = arr1 / arr2\n",
    "\n",
    "addition, subtraction, multiplication, division"
   ]
  },
  {
   "cell_type": "raw",
   "id": "cad692bc-a407-4a80-9526-a62b94db6038",
   "metadata": {},
   "source": [
    "QUESTION-8.Use NumPy to create a 5x5 identity matrix, then extract its diagonal elements. "
   ]
  },
  {
   "cell_type": "code",
   "execution_count": 9,
   "id": "a0b5e7fe-3380-4818-829c-2f260cfaedf6",
   "metadata": {},
   "outputs": [
    {
     "data": {
      "text/plain": [
       "(array([[1., 0., 0., 0., 0.],\n",
       "        [0., 1., 0., 0., 0.],\n",
       "        [0., 0., 1., 0., 0.],\n",
       "        [0., 0., 0., 1., 0.],\n",
       "        [0., 0., 0., 0., 1.]]),\n",
       " array([1., 1., 1., 1., 1.]))"
      ]
     },
     "execution_count": 9,
     "metadata": {},
     "output_type": "execute_result"
    }
   ],
   "source": [
    "#Answer-8\n",
    "# Create a 5x5 identity matrix\n",
    "identity_matrix = np.eye(5)\n",
    "\n",
    "# Extract diagonal elements\n",
    "diagonal_elements = np.diag(identity_matrix)\n",
    "\n",
    "identity_matrix, diagonal_elements"
   ]
  },
  {
   "cell_type": "code",
   "execution_count": null,
   "id": "9ca04e60-94d5-4fff-9cb8-a602041b8dd0",
   "metadata": {},
   "outputs": [],
   "source": [
    "QUESTION-9 Generate a NumPy array of 100 random integers between 0 and 1000. Find and display all prime numbers in \n",
    "this array."
   ]
  },
  {
   "cell_type": "code",
   "execution_count": 10,
   "id": "211e27e0-d3ec-4d6f-9402-4f128b6970be",
   "metadata": {},
   "outputs": [
    {
     "data": {
      "text/plain": [
       "array([881, 461,   2, 163, 449, 877, 317, 641, 857, 107, 593, 971, 911,\n",
       "       499, 383, 601])"
      ]
     },
     "execution_count": 10,
     "metadata": {},
     "output_type": "execute_result"
    }
   ],
   "source": [
    "#Answer-9\n",
    "# Function to check if a number is prime\n",
    "def is_prime(num):\n",
    "    if num < 2:\n",
    "        return False\n",
    "    for i in range(2, int(np.sqrt(num)) + 1):\n",
    "        if num % i == 0:\n",
    "            return False\n",
    "    return True\n",
    "\n",
    "# Generate a 1D array of 100 random integers between 0 and 1000\n",
    "arr = np.random.randint(0, 1000, 100)\n",
    "\n",
    "# Filter prime numbers\n",
    "prime_numbers = arr[np.vectorize(is_prime)(arr)]\n",
    "\n",
    "prime_numbers"
   ]
  },
  {
   "cell_type": "raw",
   "id": "e6919af7-6163-4106-9c3a-fe11fb7504e7",
   "metadata": {},
   "source": [
    "QUESTION-10Create a NumPy array representing daily temperatures for a month. Calculate and display the weekly \n",
    "averages"
   ]
  },
  {
   "cell_type": "code",
   "execution_count": 5,
   "id": "cd6263f5-1a53-47b8-b274-4ed806a343bd",
   "metadata": {},
   "outputs": [
    {
     "data": {
      "text/plain": [
       "array([569, 653, 853, 881, 431, 547, 809,  59, 151, 809, 443, 661, 223,\n",
       "       151, 619])"
      ]
     },
     "execution_count": 5,
     "metadata": {},
     "output_type": "execute_result"
    }
   ],
   "source": [
    "#Answer-10\n",
    "import numpy as np\n",
    "# Function to check if a number is prime\n",
    "def is_prime(num):\n",
    "    if num < 2:\n",
    "        return False\n",
    "    for i in range(2, int(np.sqrt(num)) + 1):\n",
    "        if num % i == 0:\n",
    "            return False\n",
    "    return True\n",
    "\n",
    "# Generate a 1D array of 100 random integers between 0 and 1000\n",
    "arr = np.random.randint(0, 1000, 100)\n",
    "\n",
    "# Filter prime numbers\n",
    "prime_numbers = arr[np.vectorize(is_prime)(arr)]\n",
    "\n",
    "prime_numbers"
   ]
  }
 ],
 "metadata": {
  "kernelspec": {
   "display_name": "Python 3 (ipykernel)",
   "language": "python",
   "name": "python3"
  },
  "language_info": {
   "codemirror_mode": {
    "name": "ipython",
    "version": 3
   },
   "file_extension": ".py",
   "mimetype": "text/x-python",
   "name": "python",
   "nbconvert_exporter": "python",
   "pygments_lexer": "ipython3",
   "version": "3.12.7"
  }
 },
 "nbformat": 4,
 "nbformat_minor": 5
}
